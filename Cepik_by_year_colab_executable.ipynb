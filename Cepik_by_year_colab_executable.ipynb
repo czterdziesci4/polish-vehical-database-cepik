{
  "cells": [
    {
      "cell_type": "markdown",
      "metadata": {
        "id": "view-in-github",
        "colab_type": "text"
      },
      "source": [
        "<a href=\"https://colab.research.google.com/github/czterdziesci4/polish-vehical-database-cepik/blob/main/Cepik_by_year_colab_executable.ipynb\" target=\"_parent\"><img src=\"https://colab.research.google.com/assets/colab-badge.svg\" alt=\"Open In Colab\"/></a>"
      ]
    },
    {
      "cell_type": "markdown",
      "metadata": {
        "id": "6532bf41-4794-4b5e-a251-09a39e78150b"
      },
      "source": [
        "### cepik api"
      ],
      "id": "6532bf41-4794-4b5e-a251-09a39e78150b"
    },
    {
      "cell_type": "markdown",
      "metadata": {
        "id": "eab43291-72d0-42da-b4e1-02abffcf9a74"
      },
      "source": [
        "Dokumnetacja APi Cepik: https://api.cepik.gov.pl/doc\n",
        "Filtrowanie: filter[<nazwa atrybutu>]=<szukana wartość>\n",
        "    \n",
        "    filter[<rodzaj-paliwa>]=<ENERGIA ELEKTRYCZNA>"
      ],
      "id": "eab43291-72d0-42da-b4e1-02abffcf9a74"
    },
    {
      "cell_type": "code",
      "execution_count": 1,
      "metadata": {
        "id": "faa946fd-b4db-4125-ab1b-b0a48e1350f9"
      },
      "outputs": [],
      "source": [
        "import pandas as pd\n",
        "import numpy as np\n",
        "import json\n",
        "import time\n",
        "import requests\n",
        "import os\n",
        "from datetime import datetime\n",
        "from google.colab import files\n"
      ],
      "id": "faa946fd-b4db-4125-ab1b-b0a48e1350f9"
    },
    {
      "cell_type": "markdown",
      "metadata": {
        "id": "e069ce9e-2750-4b9c-82d3-ba9c232785a7"
      },
      "source": [
        "### Dictnionaries"
      ],
      "id": "e069ce9e-2750-4b9c-82d3-ba9c232785a7"
    },
    {
      "cell_type": "markdown",
      "metadata": {
        "id": "2f73f8d3-cea5-4b5f-a370-3472a927b5c0"
      },
      "source": [
        "#### Wojeództwa"
      ],
      "id": "2f73f8d3-cea5-4b5f-a370-3472a927b5c0"
    },
    {
      "cell_type": "code",
      "execution_count": 2,
      "metadata": {
        "id": "1efbe66c-c5c5-47f5-a22f-913a0cd9b321"
      },
      "outputs": [],
      "source": [
        "# just use whatever you want - this is total avaiable list of wojewodztwo and years \n",
        "#wojew = [\"02\",\"04\",\"06\",\"08\",\"10\",\"12\",\"14\",\"16\",\"18\",\"20\",\"22\",\"24\",\"26\",\"28\",\"30\",\"32\",\"XX\"]\n",
        "#years = [\"2010\",\"2011\",\"2012\",\"2013\",\"2014\",\"2015\",\"2016\",\"2017\",\"2018\",\"2019\",\"2020\",\"2021\",\"2022\"]\n",
        "\n",
        "wojew = [\"02\",\"04\"]\n",
        "years = [\"2010\",\"2011\"]\n",
        "\n",
        "\n",
        "# Regions codes\n",
        "# code\twojewództwo\n",
        "# 02\tDOLNOŚLĄSKIE\n",
        "# 04\tKUJAWSKO-POMORSKIE\n",
        "# 06\tLUBELSKIE\n",
        "# 08\tLUBUSKIE\n",
        "# 10\tŁÓDZKIE\n",
        "# 12\tMAŁOPOLSKIE\n",
        "# 14\tMAZOWIECKIE\n",
        "# 16\tOPOLSKIE\n",
        "# 18\tPODKARPACKIE\n",
        "# 20\tPODLASKIE\n",
        "# 22\tPOMORSKIE\n",
        "# 24\tŚLĄSKIE\n",
        "# 26\tŚWIĘTOKRZYSKIE\n",
        "# 28\tWARMIŃSKO-MAZURSKIE\n",
        "# 30\tWIELKOPOLSKIE\n",
        "# 32\tZACHODNIOPOMORSKIE\n",
        "# XX\tNIEOKREŚLONE\n"
      ],
      "id": "1efbe66c-c5c5-47f5-a22f-913a0cd9b321"
    },
    {
      "cell_type": "code",
      "execution_count": 3,
      "metadata": {
        "id": "6d15636d-8a40-40fb-bded-37162f90aa7c"
      },
      "outputs": [],
      "source": [
        "#Based url\n",
        "\n",
        "based_url = \"https://api.cepik.gov.pl/pojazdy?&limit=500\" \n",
        "\n",
        "\n",
        "# Filters\n",
        "#filtr = '&filter[rodzaj-paliwa]=ENERGIA+ELEKTRYCZNA' # just sample filter\n",
        "filtr = '&filter[rodzaj-paliwa]=ENERGIA+ELEKTRYCZNA&tylko-zarejestrowane=false&pokaz-wszystkie-pola=true'\n",
        "\n",
        "\n",
        "# local machine - uncomment below baths if you use it at local machine - serch the code for to uncomment all: local machine\n",
        "#upload_path = \"J:/Dokumenty/Tomek/YT/samochody/cepik/grab/\" # it was used on local machine \n",
        "#current_dic = \"2022-05-15/\" # it was used on local machine\n",
        "\n",
        "base_name_xls = \"Cepik_\" \n",
        "# url\n"
      ],
      "id": "6d15636d-8a40-40fb-bded-37162f90aa7c"
    },
    {
      "cell_type": "code",
      "execution_count": 4,
      "metadata": {
        "colab": {
          "base_uri": "https://localhost:8080/"
        },
        "id": "fcf1e6ca-ec73-47fa-a574-5eb9388233d7",
        "outputId": "d418bc26-2fba-4e82-821b-7fbbf7c0befa"
      },
      "outputs": [
        {
          "output_type": "stream",
          "name": "stdout",
          "text": [
            "no df to del\n"
          ]
        }
      ],
      "source": [
        "try:\n",
        "    del cars\n",
        "    del df\n",
        "except Exception:\n",
        "    print(\"no df to del\")"
      ],
      "id": "fcf1e6ca-ec73-47fa-a574-5eb9388233d7"
    },
    {
      "cell_type": "markdown",
      "source": [
        "Main Window"
      ],
      "metadata": {
        "id": "AzFA9gFKySWR"
      },
      "id": "AzFA9gFKySWR"
    },
    {
      "cell_type": "code",
      "execution_count": 11,
      "metadata": {
        "colab": {
          "base_uri": "https://localhost:8080/",
          "height": 607
        },
        "id": "b05c3ecc-0ef8-43ad-97d3-7d1ea33e3e1a",
        "outputId": "788d096c-ab0e-49b5-ad47-f5c390dabb55"
      },
      "outputs": [
        {
          "output_type": "stream",
          "name": "stdout",
          "text": [
            "----------------------------------------\n",
            "wojedzództwo: 02\n",
            "First year to dig: 2010\n",
            "Last year to dig: 2011\n",
            "--------------------\n",
            "Year: 2010\n",
            "We dig in: https://api.cepik.gov.pl/pojazdy?&limit=500&data-od=20100101&data-do=20101231&filter[rodzaj-paliwa]=ENERGIA+ELEKTRYCZNA&tylko-zarejestrowane=false&pokaz-wszystkie-pola=true&wojewodztwo=02&page=1\n",
            "digging OK - data statatus code: 200\n",
            "page/step:  1  Records in woj:  02 records to download: 16  pages do download:  1.0\n",
            "-----\n",
            "--------------------\n",
            "Year: 2011\n",
            "We dig in: https://api.cepik.gov.pl/pojazdy?&limit=500&data-od=20110101&data-do=20111231&filter[rodzaj-paliwa]=ENERGIA+ELEKTRYCZNA&tylko-zarejestrowane=false&pokaz-wszystkie-pola=true&wojewodztwo=02&page=1\n",
            "digging OK - data statatus code: 200\n",
            "page/step:  1  Records in woj:  02 records to download: 14  pages do download:  1.0\n",
            "-----\n",
            "saving woj: 02  to the path:  Cepik_WOJ-02_years_2010-2011_total_-generated_2022_11_23_18_56_26.csv\n"
          ]
        },
        {
          "output_type": "display_data",
          "data": {
            "text/plain": [
              "<IPython.core.display.Javascript object>"
            ],
            "application/javascript": [
              "\n",
              "    async function download(id, filename, size) {\n",
              "      if (!google.colab.kernel.accessAllowed) {\n",
              "        return;\n",
              "      }\n",
              "      const div = document.createElement('div');\n",
              "      const label = document.createElement('label');\n",
              "      label.textContent = `Downloading \"${filename}\": `;\n",
              "      div.appendChild(label);\n",
              "      const progress = document.createElement('progress');\n",
              "      progress.max = size;\n",
              "      div.appendChild(progress);\n",
              "      document.body.appendChild(div);\n",
              "\n",
              "      const buffers = [];\n",
              "      let downloaded = 0;\n",
              "\n",
              "      const channel = await google.colab.kernel.comms.open(id);\n",
              "      // Send a message to notify the kernel that we're ready.\n",
              "      channel.send({})\n",
              "\n",
              "      for await (const message of channel.messages) {\n",
              "        // Send a message to notify the kernel that we're ready.\n",
              "        channel.send({})\n",
              "        if (message.buffers) {\n",
              "          for (const buffer of message.buffers) {\n",
              "            buffers.push(buffer);\n",
              "            downloaded += buffer.byteLength;\n",
              "            progress.value = downloaded;\n",
              "          }\n",
              "        }\n",
              "      }\n",
              "      const blob = new Blob(buffers, {type: 'application/binary'});\n",
              "      const a = document.createElement('a');\n",
              "      a.href = window.URL.createObjectURL(blob);\n",
              "      a.download = filename;\n",
              "      div.appendChild(a);\n",
              "      a.click();\n",
              "      div.remove();\n",
              "    }\n",
              "  "
            ]
          },
          "metadata": {}
        },
        {
          "output_type": "display_data",
          "data": {
            "text/plain": [
              "<IPython.core.display.Javascript object>"
            ],
            "application/javascript": [
              "download(\"download_d661fab9-670b-4a4d-8b7e-0bcce9f803ff\", \"Cepik_WOJ-02_years_2010-2011_total_-generated_2022_11_23_18_56_26.csv\", 14656)"
            ]
          },
          "metadata": {}
        },
        {
          "output_type": "stream",
          "name": "stdout",
          "text": [
            "----------------------------------------\n",
            "wojedzództwo: 04\n",
            "First year to dig: 2010\n",
            "Last year to dig: 2011\n",
            "--------------------\n",
            "Year: 2010\n",
            "We dig in: https://api.cepik.gov.pl/pojazdy?&limit=500&data-od=20100101&data-do=20101231&filter[rodzaj-paliwa]=ENERGIA+ELEKTRYCZNA&tylko-zarejestrowane=false&pokaz-wszystkie-pola=true&wojewodztwo=04&page=1\n",
            "digging OK - data statatus code: 200\n",
            "page/step:  1  Records in woj:  04 records to download: 0  pages do download:  1.0\n",
            "-----\n",
            "--------------------\n",
            "Year: 2011\n",
            "We dig in: https://api.cepik.gov.pl/pojazdy?&limit=500&data-od=20110101&data-do=20111231&filter[rodzaj-paliwa]=ENERGIA+ELEKTRYCZNA&tylko-zarejestrowane=false&pokaz-wszystkie-pola=true&wojewodztwo=04&page=1\n",
            "digging OK - data statatus code: 200\n",
            "page/step:  1  Records in woj:  04 records to download: 3  pages do download:  1.0\n",
            "-----\n",
            "saving woj: 04  to the path:  Cepik_WOJ-04_years_2010-2011_total_-generated_2022_11_23_18_56_30.csv\n"
          ]
        },
        {
          "output_type": "display_data",
          "data": {
            "text/plain": [
              "<IPython.core.display.Javascript object>"
            ],
            "application/javascript": [
              "\n",
              "    async function download(id, filename, size) {\n",
              "      if (!google.colab.kernel.accessAllowed) {\n",
              "        return;\n",
              "      }\n",
              "      const div = document.createElement('div');\n",
              "      const label = document.createElement('label');\n",
              "      label.textContent = `Downloading \"${filename}\": `;\n",
              "      div.appendChild(label);\n",
              "      const progress = document.createElement('progress');\n",
              "      progress.max = size;\n",
              "      div.appendChild(progress);\n",
              "      document.body.appendChild(div);\n",
              "\n",
              "      const buffers = [];\n",
              "      let downloaded = 0;\n",
              "\n",
              "      const channel = await google.colab.kernel.comms.open(id);\n",
              "      // Send a message to notify the kernel that we're ready.\n",
              "      channel.send({})\n",
              "\n",
              "      for await (const message of channel.messages) {\n",
              "        // Send a message to notify the kernel that we're ready.\n",
              "        channel.send({})\n",
              "        if (message.buffers) {\n",
              "          for (const buffer of message.buffers) {\n",
              "            buffers.push(buffer);\n",
              "            downloaded += buffer.byteLength;\n",
              "            progress.value = downloaded;\n",
              "          }\n",
              "        }\n",
              "      }\n",
              "      const blob = new Blob(buffers, {type: 'application/binary'});\n",
              "      const a = document.createElement('a');\n",
              "      a.href = window.URL.createObjectURL(blob);\n",
              "      a.download = filename;\n",
              "      div.appendChild(a);\n",
              "      a.click();\n",
              "      div.remove();\n",
              "    }\n",
              "  "
            ]
          },
          "metadata": {}
        },
        {
          "output_type": "display_data",
          "data": {
            "text/plain": [
              "<IPython.core.display.Javascript object>"
            ],
            "application/javascript": [
              "download(\"download_41bf2a6e-644f-4ecb-b475-476435812673\", \"Cepik_WOJ-04_years_2010-2011_total_-generated_2022_11_23_18_56_30.csv\", 3635)"
            ]
          },
          "metadata": {}
        }
      ],
      "source": [
        "# Wojewodztwo loop\n",
        "\n",
        "for w in wojew:\n",
        "\n",
        "    print (\"-\"*40)\n",
        "    print(\"wojedzództwo:\", w)\n",
        "    \n",
        "    wojewodz = \"&wojewodztwo=\" + w\n",
        "    \n",
        "    # Year loop\n",
        "    print (\"First year to dig:\", years[0] )\n",
        "    print (\"Last year to dig:\", years[-1] )\n",
        "    \n",
        "    for y in years:\n",
        "        \n",
        "        # on local machine\n",
        "        # Make a directory \n",
        "        #path = os.path.join(upload_path, w , y) \n",
        "        #print (\"y=\",y)\n",
        "        \n",
        "        # local machine - uncomment below baths if you use it at local machine\n",
        "        #path_to_save = upload_path + \"/\" + w + \"/\" + y + \"/\" \n",
        "        \n",
        "        # was used on local machine\n",
        "        # local machine \n",
        "        \n",
        "        #try: \n",
        "        #    os.makedirs (path_to_save)\n",
        "        #    print (path_to_save, \" successfully created\")\n",
        "        #except Exception:\n",
        "        #    print(\"dic: \", path_to_save, \"aready exit\" )\n",
        "        #print (\"path_to_save\", path_to_save)\n",
        "        \n",
        "        print (\"-\"*20)\n",
        "        print(\"Year:\", y)\n",
        "        \n",
        "        period = \"&data-od=\" + y + \"0101&data-do=\" + y + \"1231\"\n",
        "        \n",
        "                \n",
        "        # remove reco_no        \n",
        "        try:\n",
        "            del rec_no\n",
        "        except Exception:\n",
        "            print(\"no data to del\")\n",
        "   \n",
        "        \n",
        "        # seting up variable before the loop\n",
        "        rec_no = 0\n",
        "        step = 1\n",
        "        finished = False \n",
        "        number_of_waits = 0\n",
        "        \n",
        "        while not finished:\n",
        "            \n",
        "            page = \"&page=\" + str(step)\n",
        "            url = based_url + period +  filtr + wojewodz + page\n",
        "\n",
        "            print (\"We dig in:\", url)\n",
        "           \n",
        "\n",
        "            #-------------collecting data -------    \n",
        "            data_temp = requests.get(url) \n",
        "            #------------------------------------\n",
        "            \n",
        "            if data_temp.status_code != 200:\n",
        "                number_of_waits = number_of_waits + 1\n",
        "                print (\"digging status NOK: \", data_temp.status_code, \"wait for 5 sek.\", number_of_waits , \"times\")\n",
        "                time.sleep(5) # czekam 5 sek\n",
        "            else:\n",
        "                print (\"digging OK -\", \"data statatus code:\",data_temp.status_code)\n",
        "\n",
        "                # normalizing json files                \n",
        "                data = data_temp.json()\n",
        "                df = pd.json_normalize(data, record_path =['data'])\n",
        "                \n",
        "                # how many times we need to iterate data to download\n",
        "                rec_no = pd.json_normalize(data)\n",
        "                rec_no = rec_no[\"meta.count\"][0]\n",
        "                records_tc =  rec_no\n",
        "                rec_no = round(rec_no/500+1,0)\n",
        "\n",
        "                print (\"page/step: \",step,\" Records in woj: \",w, \"records to download:\",records_tc ,\" pages do download: \", rec_no)\n",
        "                \n",
        "                \n",
        "                # ----------- aggregtion data into the year and woj ----------------\n",
        "                # if first step lets make cars as a df\n",
        "                if step == 1:\n",
        "                    cars_in_years_and_woj = df\n",
        "                else:\n",
        "                    # add another set of data form steps in the common df\n",
        "                    cars_in_years_and_woj = cars_in_years_and_woj.append(df)\n",
        "                \n",
        "                # ----------- aggregtion data into the year and woj ----------------\n",
        "                \n",
        "                \n",
        "                # save each set of data from particular step steps into the csv\n",
        "                now_file = \"generated_\" + datetime.now().strftime(\"%Y_%m_%d_%H_%M_%S\")\n",
        "                \n",
        "                \n",
        "                \n",
        "                name_xls = \"Cepik_\" + y + \"_woj_\" +w + \"_step_\" + str(step) + \"-\" + now_file + \".csv\"\n",
        "                # df.to_csv(path_or_buf = name_xls)\n",
        "                \n",
        "        \n",
        "                \n",
        "                if step == rec_no:\n",
        "                    finished = True\n",
        "                    \n",
        "                    # save one year of woj - all steps - into the csv\n",
        "                    #print (os.path.join(upload_path, w , y) + base_name_xls + y + \"_woj_\" +w + \"_total_\" + \"-\" + now_file + \".csv\")\n",
        "                    \n",
        "                    # local machine - uncomment below baths if you use it at local machine\n",
        "                    #name_xls_total = path_to_save + base_name_xls + y + \"_woj_\" +w + \"_total_\" + \"-\" + now_file + \".csv\"\n",
        "                    name_xls_total = \"Cepik\" + y + \"_woj_\" +w + \"_total_\" + \"-\" + now_file + \".csv\"\n",
        "                    \n",
        "                    # This is creationg a partial file (for verification of data)\n",
        "                    # Data will be later appended but you may still download the partial files\n",
        "                    # just uncomment below two lines \n",
        "                    #-----------------------\n",
        "                    #cars_in_years_and_woj.to_csv(path_or_buf= name_xls_total)\n",
        "                    #files.download(name_xls_total)\n",
        "                    #-----------------------\n",
        "                    \n",
        "                    # Agregation of the WOJ - all years in WOJ\n",
        "                    # Agregation data - all years in one Woj\n",
        "                    #print (\"y=\",y,\"years[0]=\",years[0])\n",
        "                    if y == years[0]:\n",
        "                        all_cars_in_years = cars_in_years_and_woj\n",
        "                        #print (\"!!!!!! first stp i all_cars_in_years = cars_in_years_and_woj\")\n",
        "                    else:\n",
        "                        # add another set of data form steps in the common df\n",
        "                        all_cars_in_years = all_cars_in_years.append(cars_in_years_and_woj)\n",
        "\n",
        "                    \n",
        "                else:    \n",
        "                    step = step + 1\n",
        "               \n",
        "                print (\"-\"*5)\n",
        "    \n",
        "    \n",
        "    \n",
        "    name_xls_all_years = \"Cepik_WOJ-\" + w + \"_years_\" + years[0] + \"-\" + years[-1] + \"_total_\" + \"-\" + now_file + \".csv\"\n",
        "    print (\"saving woj:\",w,\" to the path: \", name_xls_all_years)\n",
        "    \n",
        "    all_cars_in_years.to_csv(path_or_buf= name_xls_all_years)\n",
        "    files.download(name_xls_all_years)\n",
        "    del cars_in_years_and_woj\n",
        "    \n",
        "    # end of WOj loop"
      ],
      "id": "b05c3ecc-0ef8-43ad-97d3-7d1ea33e3e1a"
    },
    {
      "cell_type": "markdown",
      "metadata": {
        "id": "e239b003-66e8-46b1-8c94-bc05789d716f"
      },
      "source": [
        "Marging Files"
      ],
      "id": "e239b003-66e8-46b1-8c94-bc05789d716f"
    },
    {
      "cell_type": "code",
      "execution_count": 11,
      "metadata": {
        "id": "21b193d2-9341-4752-803d-b6c4e08b449f"
      },
      "outputs": [],
      "source": [],
      "id": "21b193d2-9341-4752-803d-b6c4e08b449f"
    }
  ],
  "metadata": {
    "accelerator": "GPU",
    "colab": {
      "provenance": [],
      "include_colab_link": true
    },
    "kernelspec": {
      "display_name": "Python 3",
      "language": "python",
      "name": "python3"
    },
    "language_info": {
      "codemirror_mode": {
        "name": "ipython",
        "version": 3
      },
      "file_extension": ".py",
      "mimetype": "text/x-python",
      "name": "python",
      "nbconvert_exporter": "python",
      "pygments_lexer": "ipython3",
      "version": "3.8.8"
    }
  },
  "nbformat": 4,
  "nbformat_minor": 5
}