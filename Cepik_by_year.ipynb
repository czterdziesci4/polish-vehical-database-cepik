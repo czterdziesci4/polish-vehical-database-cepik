{
 "cells": [
  {
   "cell_type": "markdown",
   "id": "6532bf41-4794-4b5e-a251-09a39e78150b",
   "metadata": {
    "tags": []
   },
   "source": [
    "### cepik api"
   ]
  },
  {
   "cell_type": "markdown",
   "id": "eab43291-72d0-42da-b4e1-02abffcf9a74",
   "metadata": {},
   "source": [
    "Documentation at: APi Cepik: https://api.cepik.gov.pl/doc\n",
    "Script allows do grab data about vehicle registeret in Poland from CEPKI database.\n",
    "\n",
    "Cepki contanins information from 2010 and is update weekly\n",
    "This example downloads information about electric cars."
   ]
  },
  {
   "cell_type": "code",
   "execution_count": 1,
   "id": "faa946fd-b4db-4125-ab1b-b0a48e1350f9",
   "metadata": {},
   "outputs": [],
   "source": [
    "# required liaberies \n",
    "import pandas as pd\n",
    "import numpy as np\n",
    "import json\n",
    "import time\n",
    "import requests\n",
    "import os\n",
    "from datetime import datetime"
   ]
  },
  {
   "cell_type": "code",
   "execution_count": 2,
   "id": "4826858c-3037-4430-9ff4-8e05e27a47d1",
   "metadata": {},
   "outputs": [],
   "source": [
    "#now_file = datetime.now()\n",
    "#now_file = \"generated_\" + datetime.now().strftime(\"%Y_%m_%d_%H_%M_%S\")\n",
    "#print (now_file)\n"
   ]
  },
  {
   "cell_type": "markdown",
   "id": "d50aa64e-4fad-42f5-a9ba-0347647b0865",
   "metadata": {},
   "source": [
    "#### Required filters - wojwodztwo and year (region and year)"
   ]
  },
  {
   "cell_type": "code",
   "execution_count": 3,
   "id": "1efbe66c-c5c5-47f5-a22f-913a0cd9b321",
   "metadata": {},
   "outputs": [],
   "source": [
    "# just to have it for copy/paste \n",
    "#wojew = [\"02\",\"04\",\"06\",\"08\",\"10\",\"12\",\"14\",\"16\",\"18\",\"20\",\"22\",\"24\",\"26\",\"28\",\"30\",\"32\",\"XX\"]\n",
    "#years = [\"2010\",\"2011\",\"2012\",\"2013\",\"2014\",\"2015\",\"2016\",\"2017\",\"2018\",\"2019\",\"2020\",\"2021\",\"2022\"]\n",
    "\n",
    "# define wojewodztwo (region) and years\n",
    "# api reguires during scraping years (maximum 2 years) and wojewodztwo - both parameters are required\n",
    "wojew = [\"02\",\"04\",\"06\",\"08\",\"10\",\"12\",\"14\",\"16\",\"18\",\"20\",\"22\",\"24\",\"26\",\"28\",\"30\",\"32\",\"XX\"]\n",
    "years = [\"2010\",\"2011\",\"2012\",\"2013\",\"2014\",\"2015\",\"2016\",\"2017\",\"2018\",\"2019\",\"2020\",\"2021\",\"2022\"]"
   ]
  },
  {
   "cell_type": "code",
   "execution_count": 4,
   "id": "6d15636d-8a40-40fb-bded-37162f90aa7c",
   "metadata": {},
   "outputs": [],
   "source": [
    "#Based url\n",
    "based_url = \"https://api.cepik.gov.pl/pojazdy?&limit=500\" \n",
    "\n",
    "# Filters - juest to have it for futrer copy-paste\n",
    "#filtr = '&filter[rodzaj-paliwa]=ENERGIA+ELEKTRYCZNA'\n",
    "# info how to build filter - check in documentation https://api.cepik.gov.pl/doc \n",
    "filtr = '&filter[rodzaj-paliwa]=ENERGIA+ELEKTRYCZNA&tylko-zarejestrowane=false&pokaz-wszystkie-pola=true'\n",
    "\n",
    "\n",
    "upload_path = \"J:/Dokumenty/Tomek/YT/samochody/cepik/grab/\" # =define it in your machine\n",
    "current_dic = \"2022-06-05/\" # Define a folder\n",
    "base_name_xls = \"Cepik_\" #name of the xls/csv file\n",
    "path_to_merge = upload_path + current_dic + \"all/\"\n",
    "all_merged_data_file_name =\"Cepik_all_data_in_one_file.csv\" # name of the file with all data\n",
    "\n"
   ]
  },
  {
   "cell_type": "code",
   "execution_count": 5,
   "id": "fcf1e6ca-ec73-47fa-a574-5eb9388233d7",
   "metadata": {
    "tags": []
   },
   "outputs": [
    {
     "name": "stdout",
     "output_type": "stream",
     "text": [
      "no df to del\n"
     ]
    }
   ],
   "source": [
    "try:\n",
    "    del cars\n",
    "    del df\n",
    "except Exception:\n",
    "    print(\"no df to del\")"
   ]
  },
  {
   "cell_type": "code",
   "execution_count": 6,
   "id": "f79ab69c-443a-4cf2-ada0-50d1f7ff4f5b",
   "metadata": {},
   "outputs": [],
   "source": [
    "try: \n",
    "    os.makedirs (path_to_merge)\n",
    "    #print (upload_path + upload_path , \"all/\", \" successfully created\")\n",
    "except Exception:\n",
    "    print(\"dic: \", path_to_save, \"aready exit\" )"
   ]
  },
  {
   "cell_type": "markdown",
   "id": "41d04af6-f696-42de-9f54-2932bef49ca6",
   "metadata": {},
   "source": [
    "### Lets dig some data\n"
   ]
  },
  {
   "cell_type": "code",
   "execution_count": 7,
   "id": "b05c3ecc-0ef8-43ad-97d3-7d1ea33e3e1a",
   "metadata": {
    "tags": []
   },
   "outputs": [
    {
     "name": "stdout",
     "output_type": "stream",
     "text": [
      "----------------------------------------\n",
      "wojedzództwo: 02\n",
      "First year to dig: 2021 Last year to dig: 2022\n",
      "J:/Dokumenty/Tomek/YT/samochody/cepik/grab/2022-06-05//woj_02/2021/  successfully created\n",
      "--------------------\n",
      "Year: 2021\n",
      "no data to del\n",
      "We dig in: https://api.cepik.gov.pl/pojazdy?&limit=500&data-od=20210101&data-do=20211231&filter[rodzaj-paliwa]=ENERGIA+ELEKTRYCZNA&tylko-zarejestrowane=false&pokaz-wszystkie-pola=true&wojewodztwo=02&page=1\n",
      "digging OK - data statatus code: 200\n",
      "page/step:  1  Records in woj:  02 records to download: 952  pages to download:  3.0\n",
      "-----\n",
      "We dig in: https://api.cepik.gov.pl/pojazdy?&limit=500&data-od=20210101&data-do=20211231&filter[rodzaj-paliwa]=ENERGIA+ELEKTRYCZNA&tylko-zarejestrowane=false&pokaz-wszystkie-pola=true&wojewodztwo=02&page=2\n",
      "digging OK - data statatus code: 200\n",
      "page/step:  2  Records in woj:  02 records to download: 952  pages to download:  3.0\n",
      "-----\n",
      "We dig in: https://api.cepik.gov.pl/pojazdy?&limit=500&data-od=20210101&data-do=20211231&filter[rodzaj-paliwa]=ENERGIA+ELEKTRYCZNA&tylko-zarejestrowane=false&pokaz-wszystkie-pola=true&wojewodztwo=02&page=3\n",
      "digging OK - data statatus code: 200\n",
      "page/step:  3  Records in woj:  02 records to download: 952  pages to download:  3.0\n",
      "-----\n",
      "J:/Dokumenty/Tomek/YT/samochody/cepik/grab/2022-06-05//woj_02/2022/  successfully created\n",
      "--------------------\n",
      "Year: 2022\n",
      "We dig in: https://api.cepik.gov.pl/pojazdy?&limit=500&data-od=20220101&data-do=20221231&filter[rodzaj-paliwa]=ENERGIA+ELEKTRYCZNA&tylko-zarejestrowane=false&pokaz-wszystkie-pola=true&wojewodztwo=02&page=1\n",
      "digging OK - data statatus code: 200\n",
      "page/step:  1  Records in woj:  02 records to download: 535  pages to download:  2.0\n",
      "-----\n",
      "We dig in: https://api.cepik.gov.pl/pojazdy?&limit=500&data-od=20220101&data-do=20221231&filter[rodzaj-paliwa]=ENERGIA+ELEKTRYCZNA&tylko-zarejestrowane=false&pokaz-wszystkie-pola=true&wojewodztwo=02&page=2\n",
      "digging OK - data statatus code: 200\n",
      "page/step:  2  Records in woj:  02 records to download: 535  pages to download:  2.0\n",
      "-----\n",
      "saving woj: 02  to the path:  J:/Dokumenty/Tomek/YT/samochody/cepik/grab/2022-06-05/all/Cepik_ WOJ-02_years_2021-2022_total_generated_2022_06_05_20_42_27.csv\n",
      "----------------------------------------\n",
      "wojedzództwo: 04\n",
      "First year to dig: 2021 Last year to dig: 2022\n",
      "J:/Dokumenty/Tomek/YT/samochody/cepik/grab/2022-06-05//woj_04/2021/  successfully created\n",
      "--------------------\n",
      "Year: 2021\n",
      "We dig in: https://api.cepik.gov.pl/pojazdy?&limit=500&data-od=20210101&data-do=20211231&filter[rodzaj-paliwa]=ENERGIA+ELEKTRYCZNA&tylko-zarejestrowane=false&pokaz-wszystkie-pola=true&wojewodztwo=04&page=1\n",
      "digging OK - data statatus code: 200\n",
      "page/step:  1  Records in woj:  04 records to download: 399  pages to download:  2.0\n",
      "-----\n",
      "We dig in: https://api.cepik.gov.pl/pojazdy?&limit=500&data-od=20210101&data-do=20211231&filter[rodzaj-paliwa]=ENERGIA+ELEKTRYCZNA&tylko-zarejestrowane=false&pokaz-wszystkie-pola=true&wojewodztwo=04&page=2\n",
      "digging OK - data statatus code: 200\n",
      "page/step:  2  Records in woj:  04 records to download: 399  pages to download:  2.0\n",
      "-----\n",
      "J:/Dokumenty/Tomek/YT/samochody/cepik/grab/2022-06-05//woj_04/2022/  successfully created\n",
      "--------------------\n",
      "Year: 2022\n",
      "We dig in: https://api.cepik.gov.pl/pojazdy?&limit=500&data-od=20220101&data-do=20221231&filter[rodzaj-paliwa]=ENERGIA+ELEKTRYCZNA&tylko-zarejestrowane=false&pokaz-wszystkie-pola=true&wojewodztwo=04&page=1\n",
      "digging OK - data statatus code: 200\n",
      "page/step:  1  Records in woj:  04 records to download: 236  pages to download:  1.0\n",
      "-----\n",
      "saving woj: 04  to the path:  J:/Dokumenty/Tomek/YT/samochody/cepik/grab/2022-06-05/all/Cepik_ WOJ-04_years_2021-2022_total_generated_2022_06_05_20_42_47.csv\n",
      "----------------------------------------\n",
      "wojedzództwo: 06\n",
      "First year to dig: 2021 Last year to dig: 2022\n",
      "J:/Dokumenty/Tomek/YT/samochody/cepik/grab/2022-06-05//woj_06/2021/  successfully created\n",
      "--------------------\n",
      "Year: 2021\n",
      "We dig in: https://api.cepik.gov.pl/pojazdy?&limit=500&data-od=20210101&data-do=20211231&filter[rodzaj-paliwa]=ENERGIA+ELEKTRYCZNA&tylko-zarejestrowane=false&pokaz-wszystkie-pola=true&wojewodztwo=06&page=1\n",
      "digging OK - data statatus code: 200\n",
      "page/step:  1  Records in woj:  06 records to download: 420  pages to download:  2.0\n",
      "-----\n",
      "We dig in: https://api.cepik.gov.pl/pojazdy?&limit=500&data-od=20210101&data-do=20211231&filter[rodzaj-paliwa]=ENERGIA+ELEKTRYCZNA&tylko-zarejestrowane=false&pokaz-wszystkie-pola=true&wojewodztwo=06&page=2\n",
      "digging OK - data statatus code: 200\n",
      "page/step:  2  Records in woj:  06 records to download: 420  pages to download:  2.0\n",
      "-----\n",
      "J:/Dokumenty/Tomek/YT/samochody/cepik/grab/2022-06-05//woj_06/2022/  successfully created\n",
      "--------------------\n",
      "Year: 2022\n",
      "We dig in: https://api.cepik.gov.pl/pojazdy?&limit=500&data-od=20220101&data-do=20221231&filter[rodzaj-paliwa]=ENERGIA+ELEKTRYCZNA&tylko-zarejestrowane=false&pokaz-wszystkie-pola=true&wojewodztwo=06&page=1\n",
      "digging OK - data statatus code: 200\n",
      "page/step:  1  Records in woj:  06 records to download: 246  pages to download:  1.0\n",
      "-----\n",
      "saving woj: 06  to the path:  J:/Dokumenty/Tomek/YT/samochody/cepik/grab/2022-06-05/all/Cepik_ WOJ-06_years_2021-2022_total_generated_2022_06_05_20_43_11.csv\n"
     ]
    }
   ],
   "source": [
    "# Wojewodztwo loop\n",
    "for w in wojew:\n",
    "\n",
    "    print (\"-\"*40)\n",
    "    print(\"wojedzództwo:\", w)\n",
    "    \n",
    "    wojewodz = \"&wojewodztwo=\" + w\n",
    "    \n",
    "    # Year loop\n",
    "    print (\"First year to dig:\", years[0], \"Last year to dig:\", years[-1] )\n",
    "    \n",
    "    for y in years:\n",
    "        \n",
    "        # Make a directory \n",
    "        #path = os.path.join(upload_path, w , y) \n",
    "        #print (\"y=\",y)\n",
    "        path_to_save = upload_path + current_dic + \"/woj_\" + w + \"/\" + y + \"/\" \n",
    "        \n",
    "        try: \n",
    "            os.makedirs (path_to_save)\n",
    "            print (path_to_save, \" successfully created\")\n",
    "        except Exception:\n",
    "            print(\"dic: \", path_to_save, \"aready exit\" )\n",
    "        #print (\"path_to_save\", path_to_save)\n",
    "        print (\"-\"*20)\n",
    "        print(\"Year:\", y)\n",
    "        \n",
    "        period = \"&data-od=\" + y + \"0101&data-do=\" + y + \"1231\"\n",
    "                        \n",
    "        # remove rec_no - rec_no is json file page number - limited to 500 results - its api limitation        \n",
    "        try:\n",
    "            del rec_no\n",
    "        except Exception:\n",
    "            print(\"no data to del\")\n",
    "       \n",
    "        # setting up values\n",
    "        rec_no = 0\n",
    "        step = 1\n",
    "        finished = False \n",
    "        number_of_waits = 0\n",
    "        \n",
    "        while not finished:\n",
    "            \n",
    "            page = \"&page=\" + str(step)\n",
    "            url = based_url + period +  filtr + wojewodz + page\n",
    "            print (\"We dig in:\", url)\n",
    "\n",
    "            # requesting json api\n",
    "            #------------------------------------    \n",
    "            data_temp = requests.get(url) \n",
    "            #------------------------------------\n",
    "            \n",
    "            # checking the response - 200 is correct\n",
    "            if data_temp.status_code != 200:\n",
    "                number_of_waits = number_of_waits + 1\n",
    "                print (\"digging status NOK: \", data_temp.status_code)\n",
    "                print (\"wait for 5 sek.\", number_of_waits , \"times\")\n",
    "                time.sleep(5) # just wait 5 sek\n",
    "            else:\n",
    "                # status code is 200 so lets take the data\n",
    "                print (\"digging OK -\", \"data statatus code:\",data_temp.status_code)\n",
    "                data = data_temp.json()\n",
    "\n",
    "                # extracting the section of json file i need\n",
    "                df = pd.json_normalize(data, record_path =['data'])\n",
    "                \n",
    "                # how many times we need to iterate data to download\n",
    "                rec_no = pd.json_normalize(data)\n",
    "                rec_no = rec_no[\"meta.count\"][0]\n",
    "                records_tc =  rec_no\n",
    "                rec_no = round(rec_no/500+1,0)\n",
    "\n",
    "                print (\"page/step: \",step,\" Records in woj: \",w, \"records to download:\",records_tc ,\" pages to download: \", rec_no)\n",
    "                                \n",
    "                # ----------- aggregtion data into the year and woj ----------------\n",
    "                # if first step lets make cars as a df\n",
    "                if step == 1:\n",
    "                    cars_in_years_and_woj = df\n",
    "                else:\n",
    "                    # add another set of data form steps in the common df\n",
    "                    cars_in_years_and_woj = cars_in_years_and_woj.append(df)\n",
    "                \n",
    "                # ----------- aggregtion data into the year and woj ----------------\n",
    "                \n",
    "                # exception in case of to many data may be required but I did not write it here\n",
    "                # save each set of data from particular step steps into the csv\n",
    "                \n",
    "                # Definition of the file name to save\n",
    "                now_file = \"generated_\" + datetime.now().strftime(\"%Y_%m_%d_%H_%M_%S\")\n",
    "                name_xls = path_to_save +  base_name_xls + y + \"_woj_\" +w + \"_step_\" + str(step)  + now_file + \".csv\"\n",
    "                         \n",
    "                \n",
    "                if step == rec_no:\n",
    "                    finished = True\n",
    "                    \n",
    "                    name_xls_total = path_to_save + base_name_xls + y + \"_woj_\" +w + \"_total_\" + now_file + \".csv\"\n",
    "                    cars_in_years_and_woj.to_csv(path_or_buf= name_xls_total)\n",
    "                    #del cars_in_years_and_woj\n",
    "                    \n",
    "                    # Agregation of the WOJ - all years in WOJ\n",
    "                    # Agregation data - all years in one Woj\n",
    "                    #print (\"y=\",y,\"years[0]=\",years[0])\n",
    "                    if y == years[0]:\n",
    "                        all_cars_in_years = cars_in_years_and_woj\n",
    "                        #print (\"!!!!!! first stp i all_cars_in_years = cars_in_years_and_woj\")\n",
    "                    else:\n",
    "                        # add another set of data form steps in the common df\n",
    "                        all_cars_in_years = all_cars_in_years.append(cars_in_years_and_woj)\n",
    "\n",
    "                    \n",
    "                else:    \n",
    "                    step = step + 1\n",
    "                \n",
    "               \n",
    "                \n",
    "                print (\"-\"*5)\n",
    "    \n",
    "    \n",
    "    \n",
    "    name_xls_all_years = path_to_merge + base_name_xls +\" WOJ-\" + w + \"_years_\" + years[0]  + \"-\" + years[-1] + \"_total_\" +  now_file + \".csv\"\n",
    "    print (\"saving woj:\",w,\" to the path: \", name_xls_all_years)\n",
    "    all_cars_in_years.to_csv(path_or_buf= name_xls_all_years)\n",
    "    del cars_in_years_and_woj\n",
    "    \n",
    "    # end of WOj loop"
   ]
  },
  {
   "cell_type": "markdown",
   "id": "e239b003-66e8-46b1-8c94-bc05789d716f",
   "metadata": {},
   "source": [
    "\n",
    "Merging Files"
   ]
  },
  {
   "cell_type": "code",
   "execution_count": 9,
   "id": "cd055274-9dad-4a32-baef-8fe2f967f44e",
   "metadata": {},
   "outputs": [
    {
     "name": "stdout",
     "output_type": "stream",
     "text": [
      "Path with files to merge:  J:/Dokumenty/Tomek/YT/samochody/cepik/grab/2022-06-05/all/\n",
      "all merged data was saved to  J:/Dokumenty/Tomek/YT/samochody/cepik/grab/2022-06-05/all/Cepik_all_data_in_one_file.csv\n"
     ]
    }
   ],
   "source": [
    "\n",
    "print(\"Path with files to merge: \",path_to_merge)\n",
    "\n",
    "files = [file for file in os.listdir(path_to_merge) if not file.startswith('.')] # Ignore hidden files\n",
    "file_name = \"all_data.csv\"\n",
    "all_data = pd.DataFrame()\n",
    "\n",
    "for file in files:\n",
    "    current_data = pd.read_csv(path_to_merge +\"/\"+file)\n",
    "    all_data = pd.concat([all_data, current_data])\n",
    "    \n",
    "all_data.to_csv(path_to_merge + all_merged_data_file_name , index=False)\n",
    "print(\"all merged data was saved to \", path_to_merge + all_merged_data_file_name)\n"
   ]
  }
 ],
 "metadata": {
  "kernelspec": {
   "display_name": "Python 3",
   "language": "python",
   "name": "python3"
  },
  "language_info": {
   "codemirror_mode": {
    "name": "ipython",
    "version": 3
   },
   "file_extension": ".py",
   "mimetype": "text/x-python",
   "name": "python",
   "nbconvert_exporter": "python",
   "pygments_lexer": "ipython3",
   "version": "3.8.8"
  }
 },
 "nbformat": 4,
 "nbformat_minor": 5
}
